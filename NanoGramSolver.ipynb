{
  "nbformat": 4,
  "nbformat_minor": 0,
  "metadata": {
    "colab": {
      "name": "NanoGramSolver.ipynb",
      "provenance": [],
      "collapsed_sections": [],
      "authorship_tag": "ABX9TyOu6jqjjX2Lt9ZPIp2rlTr5",
      "include_colab_link": true
    },
    "kernelspec": {
      "name": "python3",
      "display_name": "Python 3"
    }
  },
  "cells": [
    {
      "cell_type": "markdown",
      "metadata": {
        "id": "view-in-github",
        "colab_type": "text"
      },
      "source": [
        "<a href=\"https://colab.research.google.com/github/pedromonteirocs/Nanogramlearning/blob/master/NanoGramSolver.ipynb\" target=\"_parent\"><img src=\"https://colab.research.google.com/assets/colab-badge.svg\" alt=\"Open In Colab\"/></a>"
      ]
    },
    {
      "cell_type": "code",
      "metadata": {
        "id": "Fk9PlG_KSMte",
        "colab_type": "code",
        "colab": {
          "base_uri": "https://localhost:8080/",
          "height": 265
        },
        "outputId": "06af4719-6cae-4fa7-9078-368bd7c85522"
      },
      "source": [
        "import random\n",
        "\n",
        "def inventa_nano(nlin,ncol): #funcao para criar nanograms, entrar numero de linhas e numero de colunas\n",
        "      nano = [[random.randint(0, 1) for i in range(nlin)] for i in range(ncol)] #cria um nanograma criado aleatoriamente\n",
        "      in_lin=[]\n",
        "      in_col=[]\n",
        "      for i in range(nlin):\n",
        "          in_lin.append([])\n",
        "          cont=0            #contador das casas na linha\n",
        "          for j in range(ncol):\n",
        "            cont=cont+nano[i][j]\n",
        "            if nano[i][j]==0 or j==(ncol-1) :\n",
        "              in_lin[i].append(cont)\n",
        "              cont=0\n",
        "          in_lin[i]= [k for k in in_lin[i] if k != 0]\n",
        "      for i in range(ncol):\n",
        "          in_col.append([])\n",
        "          cont=0            #contador das casas na coluna\n",
        "          for j in range(nlin):\n",
        "            cont=cont+nano[j][i]\n",
        "            if nano[j][i]==0 or j==(nlin-1) :\n",
        "              in_col[i].append(cont)\n",
        "              cont=0\n",
        "          in_col[i]= [k for k in in_col[i] if k != 0]\n",
        "      return(in_lin,in_col,nano)\n",
        "\n",
        "#imprimir o joguim\n",
        "import numpy as np\n",
        "import matplotlib.pyplot as plt\n",
        "import matplotlib.cm as cm\n",
        "\n",
        "fig2 = plt.figure()\n",
        "nano=fig2.add_subplot()\n",
        "nano.imshow(matrix, interpolation='nearest', cmap=cm.Greys_r)\n",
        "plt.show()"
      ],
      "execution_count": 94,
      "outputs": [
        {
          "output_type": "display_data",
          "data": {
            "image/png": "[encoded data removed]",
            "text/plain": [
              "<Figure size 432x288 with 1 Axes>"
            ]
          },
          "metadata": {
            "tags": []
          }
        }
      ]
    },
    {
      "cell_type": "code",
      "metadata": {
        "id": "bIkVe_wnjALw",
        "colab_type": "code",
        "colab": {
          "base_uri": "https://localhost:8080/",
          "height": 265
        },
        "outputId": "01fc76d4-8f69-449b-d4e7-9f697fe5a001"
      },
      "source": [
        "import random\n",
        "matrix = [[random.randint(0, 1) for i in range(10)] for i in range(10)]\n",
        "random.randint(0, 1)\n",
        "matrix\n",
        "\n",
        "import numpy as np\n",
        "import matplotlib.pyplot as plt\n",
        "import matplotlib.cm as cm\n",
        "\n",
        "fig2 = plt.figure()\n",
        "nano=fig2.add_subplot()\n",
        "\n",
        "# Make an array with ones in the shape of an 'X'\n",
        "#a = np.eye(10,10)\n",
        "#a += a[::-1,:]\n",
        "\n",
        "#fig = plt.figure()\n",
        "#ax1 = fig.add_subplot(121)\n",
        "# Bilinear interpolation - this will look blurry\n",
        "#ax1.imshow(matrix, interpolation='bilinear', cmap=cm.Greys_r)\n",
        "\n",
        "#ax2 = fig.add_subplot(122)\n",
        "# 'nearest' interpolation - faithful but blocky\n",
        "nano.imshow(matrix, interpolation='nearest', cmap=cm.Greys_r)\n",
        "\n",
        "plt.show()"
      ],
      "execution_count": 39,
      "outputs": [
        {
          "output_type": "display_data",
          "data": {
            "image/png": "[encoded data removed]",
            "text/plain": [
              "<Figure size 432x288 with 1 Axes>"
            ]
          },
          "metadata": {
            "tags": []
          }
        }
      ]
    },
    {
      "cell_type": "code",
      "metadata": {
        "id": "uEqQliruknCW",
        "colab_type": "code",
        "colab": {
          "base_uri": "https://localhost:8080/",
          "height": 68
        },
        "outputId": "867c0f4a-5820-4ec7-ea34-49f20db1c84e"
      },
      "source": [
        "import numpy as np\n",
        "np.array(random.randint(0, 1))\n",
        "\n",
        "a=inventa_nano(3,3)\n",
        "a[0]\n",
        "\n"
      ],
      "execution_count": 93,
      "outputs": [
        {
          "output_type": "stream",
          "text": [
            "[[2], [2], [3]]\n",
            "[[0, 1, 1], [1, 1, 0], [1, 1, 1]]\n"
          ],
          "name": "stdout"
        },
        {
          "output_type": "execute_result",
          "data": {
            "text/plain": [
              "[2]"
            ]
          },
          "metadata": {
            "tags": []
          },
          "execution_count": 93
        }
      ]
    },
    {
      "cell_type": "code",
      "metadata": {
        "id": "ePHsu6eommL6",
        "colab_type": "code",
        "colab": {
          "base_uri": "https://localhost:8080/",
          "height": 352
        },
        "outputId": "110a62df-30f6-4ccd-b86e-929ede8c468e"
      },
      "source": [
        "\n",
        "\n",
        "a=inventa_nano(10,12)\n",
        "\n",
        "X = [i for i in a[0][1] if i != 0]\n",
        "\n",
        "print(a[0])"
      ],
      "execution_count": 114,
      "outputs": [
        {
          "output_type": "error",
          "ename": "IndexError",
          "evalue": "ignored",
          "traceback": [
            "\u001b[0;31m---------------------------------------------------------------------------\u001b[0m",
            "\u001b[0;31mIndexError\u001b[0m                                Traceback (most recent call last)",
            "\u001b[0;32m<ipython-input-114-527ef72f035f>\u001b[0m in \u001b[0;36m<module>\u001b[0;34m()\u001b[0m\n\u001b[1;32m      1\u001b[0m \u001b[0;34m\u001b[0m\u001b[0m\n\u001b[1;32m      2\u001b[0m \u001b[0;34m\u001b[0m\u001b[0m\n\u001b[0;32m----> 3\u001b[0;31m \u001b[0ma\u001b[0m\u001b[0;34m=\u001b[0m\u001b[0minventa_nano\u001b[0m\u001b[0;34m(\u001b[0m\u001b[0;36m10\u001b[0m\u001b[0;34m,\u001b[0m\u001b[0;36m12\u001b[0m\u001b[0;34m)\u001b[0m\u001b[0;34m\u001b[0m\u001b[0;34m\u001b[0m\u001b[0m\n\u001b[0m\u001b[1;32m      4\u001b[0m \u001b[0;34m\u001b[0m\u001b[0m\n\u001b[1;32m      5\u001b[0m \u001b[0mX\u001b[0m \u001b[0;34m=\u001b[0m \u001b[0;34m[\u001b[0m\u001b[0mi\u001b[0m \u001b[0;32mfor\u001b[0m \u001b[0mi\u001b[0m \u001b[0;32min\u001b[0m \u001b[0ma\u001b[0m\u001b[0;34m[\u001b[0m\u001b[0;36m0\u001b[0m\u001b[0;34m]\u001b[0m\u001b[0;34m[\u001b[0m\u001b[0;36m1\u001b[0m\u001b[0;34m]\u001b[0m \u001b[0;32mif\u001b[0m \u001b[0mi\u001b[0m \u001b[0;34m!=\u001b[0m \u001b[0;36m0\u001b[0m\u001b[0;34m]\u001b[0m\u001b[0;34m\u001b[0m\u001b[0;34m\u001b[0m\u001b[0m\n",
            "\u001b[0;32m<ipython-input-94-d9b63b290464>\u001b[0m in \u001b[0;36minventa_nano\u001b[0;34m(nlin, ncol)\u001b[0m\n\u001b[1;32m      9\u001b[0m           \u001b[0mcont\u001b[0m\u001b[0;34m=\u001b[0m\u001b[0;36m0\u001b[0m            \u001b[0;31m#contador das casas na linha\u001b[0m\u001b[0;34m\u001b[0m\u001b[0;34m\u001b[0m\u001b[0m\n\u001b[1;32m     10\u001b[0m           \u001b[0;32mfor\u001b[0m \u001b[0mj\u001b[0m \u001b[0;32min\u001b[0m \u001b[0mrange\u001b[0m\u001b[0;34m(\u001b[0m\u001b[0mncol\u001b[0m\u001b[0;34m)\u001b[0m\u001b[0;34m:\u001b[0m\u001b[0;34m\u001b[0m\u001b[0;34m\u001b[0m\u001b[0m\n\u001b[0;32m---> 11\u001b[0;31m             \u001b[0mcont\u001b[0m\u001b[0;34m=\u001b[0m\u001b[0mcont\u001b[0m\u001b[0;34m+\u001b[0m\u001b[0mnano\u001b[0m\u001b[0;34m[\u001b[0m\u001b[0mi\u001b[0m\u001b[0;34m]\u001b[0m\u001b[0;34m[\u001b[0m\u001b[0mj\u001b[0m\u001b[0;34m]\u001b[0m\u001b[0;34m\u001b[0m\u001b[0;34m\u001b[0m\u001b[0m\n\u001b[0m\u001b[1;32m     12\u001b[0m             \u001b[0;32mif\u001b[0m \u001b[0mnano\u001b[0m\u001b[0;34m[\u001b[0m\u001b[0mi\u001b[0m\u001b[0;34m]\u001b[0m\u001b[0;34m[\u001b[0m\u001b[0mj\u001b[0m\u001b[0;34m]\u001b[0m\u001b[0;34m==\u001b[0m\u001b[0;36m0\u001b[0m \u001b[0;32mor\u001b[0m \u001b[0mj\u001b[0m\u001b[0;34m==\u001b[0m\u001b[0;34m(\u001b[0m\u001b[0mncol\u001b[0m\u001b[0;34m-\u001b[0m\u001b[0;36m1\u001b[0m\u001b[0;34m)\u001b[0m \u001b[0;34m:\u001b[0m\u001b[0;34m\u001b[0m\u001b[0;34m\u001b[0m\u001b[0m\n\u001b[1;32m     13\u001b[0m               \u001b[0min_lin\u001b[0m\u001b[0;34m[\u001b[0m\u001b[0mi\u001b[0m\u001b[0;34m]\u001b[0m\u001b[0;34m.\u001b[0m\u001b[0mappend\u001b[0m\u001b[0;34m(\u001b[0m\u001b[0mcont\u001b[0m\u001b[0;34m)\u001b[0m\u001b[0;34m\u001b[0m\u001b[0;34m\u001b[0m\u001b[0m\n",
            "\u001b[0;31mIndexError\u001b[0m: list index out of range"
          ]
        }
      ]
    },
    {
      "cell_type": "code",
      "metadata": {
        "id": "dBCy4tRk2K_N",
        "colab_type": "code",
        "colab": {
          "base_uri": "https://localhost:8080/",
          "height": 336
        },
        "outputId": "315db3c6-8a0f-4fce-c33f-a7a17cbd211e"
      },
      "source": [
        "a=inventa_nano(10,10)\n",
        "\n",
        "print(a[2])\n",
        "print(\"dicas coluna\",a[1])\n",
        "print(\"dicas linha\",a[0])\n",
        "fig2 = plt.figure()\n",
        "nano=fig2.add_subplot()\n",
        "nano.imshow(a[2], interpolation='nearest', cmap=cm.Greys_r)\n",
        "plt.show()"
      ],
      "execution_count": 113,
      "outputs": [
        {
          "output_type": "stream",
          "text": [
            "[[1, 0, 0, 1, 1, 1, 1, 0, 0, 1], [1, 0, 1, 1, 0, 1, 1, 0, 1, 1], [1, 0, 1, 0, 0, 0, 1, 1, 1, 0], [0, 0, 1, 1, 0, 1, 1, 0, 0, 0], [1, 0, 0, 1, 1, 0, 0, 1, 0, 0], [1, 1, 1, 0, 1, 0, 0, 1, 0, 1], [1, 0, 1, 0, 0, 1, 1, 1, 1, 1], [0, 1, 0, 0, 0, 0, 1, 0, 0, 1], [1, 1, 1, 0, 0, 0, 0, 0, 0, 1], [1, 1, 1, 1, 0, 1, 0, 1, 0, 1]]\n",
            "dicas coluna [[3, 3, 2], [1, 3], [3, 2, 2], [2, 2, 1], [1, 2], [2, 1, 1, 1], [4, 2], [1, 3, 1], [2, 1], [2, 5]]\n",
            "dicas linha [[1, 4, 1], [1, 2, 2, 2], [1, 1, 3], [2, 2], [1, 2, 1], [3, 1, 1, 1], [1, 1, 5], [1, 1, 1], [3, 1], [4, 1, 1, 1]]\n"
          ],
          "name": "stdout"
        },
        {
          "output_type": "display_data",
          "data": {
            "image/png": "[encoded data removed]",
            "text/plain": [
              "<Figure size 432x288 with 1 Axes>"
            ]
          },
          "metadata": {
            "tags": []
          }
        }
      ]
    }
  ]
}